{
 "cells": [
  {
   "cell_type": "markdown",
   "id": "5cab15b1-a3aa-4ff7-93d3-439663ab9224",
   "metadata": {},
   "source": [
    "# Introduction to Data Science with Pokémon"
   ]
  },
  {
   "cell_type": "markdown",
   "id": "249779ac-7540-464a-9b48-4a1ac79d725e",
   "metadata": {},
   "source": [
    "***"
   ]
  },
  {
   "cell_type": "markdown",
   "id": "103ea46e-90df-4686-b84c-50ff587ef2f1",
   "metadata": {},
   "source": [
    "### Arrays"
   ]
  },
  {
   "cell_type": "code",
   "execution_count": 3,
   "id": "d1b08e0d-68e7-44fb-9ce7-f9afd1d10ba4",
   "metadata": {},
   "outputs": [],
   "source": [
    "sandwich = ['Bread', 'Mayonnaise', 'Ham', 'Cheese', 'Tomatoes', 'Bacon', 'Lettuce', 'Bread']"
   ]
  },
  {
   "cell_type": "code",
   "execution_count": 4,
   "id": "9fa7e8d4-bfd1-4eea-8255-ae177b4c557a",
   "metadata": {},
   "outputs": [
    {
     "name": "stdout",
     "output_type": "stream",
     "text": [
      "['Bread', 'Mayonnaise', 'Ham', 'Cheese', 'Tomatoes', 'Bacon', 'Lettuce', 'Bread']\n"
     ]
    }
   ],
   "source": [
    "print(sandwich);"
   ]
  },
  {
   "cell_type": "code",
   "execution_count": 5,
   "id": "8355f7bc-1962-48b0-8ec2-d859163bc611",
   "metadata": {},
   "outputs": [
    {
     "name": "stdout",
     "output_type": "stream",
     "text": [
      "Bread\n"
     ]
    }
   ],
   "source": [
    "print(sandwich[0])"
   ]
  },
  {
   "cell_type": "code",
   "execution_count": 6,
   "id": "06292e9b-4bd7-4869-9ddf-b714de32452a",
   "metadata": {},
   "outputs": [],
   "source": [
    "sliced_sandwich = sandwich[0:2]"
   ]
  },
  {
   "cell_type": "code",
   "execution_count": 7,
   "id": "2f5661e4-37ac-4362-9859-f550c90eb5e5",
   "metadata": {},
   "outputs": [
    {
     "name": "stdout",
     "output_type": "stream",
     "text": [
      "['Bread', 'Mayonnaise']\n"
     ]
    }
   ],
   "source": [
    "print(sliced_sandwich)"
   ]
  },
  {
   "cell_type": "markdown",
   "id": "c486238a-cbbf-4758-8b04-e49f5c4ede3d",
   "metadata": {},
   "source": [
    "### Import Libraries"
   ]
  },
  {
   "cell_type": "markdown",
   "id": "38482229-d70f-43dd-a964-b2e773c125c2",
   "metadata": {},
   "source": [
    "***"
   ]
  },
  {
   "cell_type": "code",
   "execution_count": 8,
   "id": "7a82c4f8-0966-4b54-8266-861601416f7f",
   "metadata": {},
   "outputs": [],
   "source": [
    "import pandas as pd\n",
    "import numpy as py\n",
    "import seaborn as sb"
   ]
  },
  {
   "cell_type": "code",
   "execution_count": 9,
   "id": "6d67d65c-27d3-433b-bf91-92820f1653a0",
   "metadata": {},
   "outputs": [
    {
     "name": "stdout",
     "output_type": "stream",
     "text": [
      "Pandas Version 2.1.3\n",
      "Numpy Version 1.26.2\n",
      "Seaborn Version 0.13.0\n"
     ]
    }
   ],
   "source": [
    "print(\"Pandas Version \" + pd.__version__ )\n",
    "print(\"Numpy Version \" + py.__version__ )\n",
    "print(\"Seaborn Version \" + sb.__version__ )"
   ]
  },
  {
   "cell_type": "markdown",
   "id": "75353da7-0d6e-41f9-a3b5-a50e307c12cb",
   "metadata": {},
   "source": [
    "# Loading Data"
   ]
  },
  {
   "cell_type": "markdown",
   "id": "92a2a12f-9e69-4dfe-b40d-91c92bf8275e",
   "metadata": {},
   "source": [
    "***"
   ]
  },
  {
   "cell_type": "code",
   "execution_count": 10,
   "id": "22f7ae13-0aaa-49a8-a6c0-cf1bfeca6cc1",
   "metadata": {},
   "outputs": [],
   "source": [
    "df = pd.read_csv('pokemon.csv')"
   ]
  },
  {
   "cell_type": "code",
   "execution_count": 11,
   "id": "b09773bd-590c-4103-b471-ef1923d6433e",
   "metadata": {},
   "outputs": [
    {
     "data": {
      "text/html": [
       "<div>\n",
       "<style scoped>\n",
       "    .dataframe tbody tr th:only-of-type {\n",
       "        vertical-align: middle;\n",
       "    }\n",
       "\n",
       "    .dataframe tbody tr th {\n",
       "        vertical-align: top;\n",
       "    }\n",
       "\n",
       "    .dataframe thead th {\n",
       "        text-align: right;\n",
       "    }\n",
       "</style>\n",
       "<table border=\"1\" class=\"dataframe\">\n",
       "  <thead>\n",
       "    <tr style=\"text-align: right;\">\n",
       "      <th></th>\n",
       "      <th>Per</th>\n",
       "      <th>Nat</th>\n",
       "      <th>Pokemon</th>\n",
       "      <th>HP</th>\n",
       "      <th>Atk</th>\n",
       "      <th>Def</th>\n",
       "      <th>SpA</th>\n",
       "      <th>SpD</th>\n",
       "      <th>Spe</th>\n",
       "      <th>Total</th>\n",
       "      <th>...</th>\n",
       "      <th>Catch</th>\n",
       "      <th>EXP</th>\n",
       "      <th>Evolve</th>\n",
       "      <th>Per.1</th>\n",
       "      <th>Nat.1</th>\n",
       "      <th>Joh</th>\n",
       "      <th>Hoe</th>\n",
       "      <th>Sin</th>\n",
       "      <th>Un</th>\n",
       "      <th>Pokemon.1</th>\n",
       "    </tr>\n",
       "  </thead>\n",
       "  <tbody>\n",
       "    <tr>\n",
       "      <th>0</th>\n",
       "      <td>1.0</td>\n",
       "      <td>1.0</td>\n",
       "      <td>Bulbasaur</td>\n",
       "      <td>45</td>\n",
       "      <td>49</td>\n",
       "      <td>49</td>\n",
       "      <td>65</td>\n",
       "      <td>65</td>\n",
       "      <td>45</td>\n",
       "      <td>318</td>\n",
       "      <td>...</td>\n",
       "      <td>45</td>\n",
       "      <td>1059860</td>\n",
       "      <td>NaN</td>\n",
       "      <td>1.0</td>\n",
       "      <td>1.0</td>\n",
       "      <td>226.0</td>\n",
       "      <td>NaN</td>\n",
       "      <td>NaN</td>\n",
       "      <td>NaN</td>\n",
       "      <td>Bulbasaur</td>\n",
       "    </tr>\n",
       "    <tr>\n",
       "      <th>1</th>\n",
       "      <td>2.0</td>\n",
       "      <td>2.0</td>\n",
       "      <td>Ivysaur</td>\n",
       "      <td>60</td>\n",
       "      <td>62</td>\n",
       "      <td>63</td>\n",
       "      <td>80</td>\n",
       "      <td>80</td>\n",
       "      <td>60</td>\n",
       "      <td>405</td>\n",
       "      <td>...</td>\n",
       "      <td>45</td>\n",
       "      <td>1059860</td>\n",
       "      <td>Lv. 16</td>\n",
       "      <td>2.0</td>\n",
       "      <td>2.0</td>\n",
       "      <td>227.0</td>\n",
       "      <td>NaN</td>\n",
       "      <td>NaN</td>\n",
       "      <td>NaN</td>\n",
       "      <td>Ivysaur</td>\n",
       "    </tr>\n",
       "    <tr>\n",
       "      <th>2</th>\n",
       "      <td>3.0</td>\n",
       "      <td>3.0</td>\n",
       "      <td>Venusaur</td>\n",
       "      <td>80</td>\n",
       "      <td>82</td>\n",
       "      <td>83</td>\n",
       "      <td>100</td>\n",
       "      <td>100</td>\n",
       "      <td>80</td>\n",
       "      <td>525</td>\n",
       "      <td>...</td>\n",
       "      <td>45</td>\n",
       "      <td>1059860</td>\n",
       "      <td>Lv. 32</td>\n",
       "      <td>3.0</td>\n",
       "      <td>3.0</td>\n",
       "      <td>228.0</td>\n",
       "      <td>NaN</td>\n",
       "      <td>NaN</td>\n",
       "      <td>NaN</td>\n",
       "      <td>Venusaur</td>\n",
       "    </tr>\n",
       "    <tr>\n",
       "      <th>3</th>\n",
       "      <td>4.0</td>\n",
       "      <td>4.0</td>\n",
       "      <td>Charmander</td>\n",
       "      <td>39</td>\n",
       "      <td>52</td>\n",
       "      <td>43</td>\n",
       "      <td>60</td>\n",
       "      <td>50</td>\n",
       "      <td>65</td>\n",
       "      <td>309</td>\n",
       "      <td>...</td>\n",
       "      <td>45</td>\n",
       "      <td>1059860</td>\n",
       "      <td>NaN</td>\n",
       "      <td>4.0</td>\n",
       "      <td>4.0</td>\n",
       "      <td>229.0</td>\n",
       "      <td>NaN</td>\n",
       "      <td>NaN</td>\n",
       "      <td>NaN</td>\n",
       "      <td>Charmander</td>\n",
       "    </tr>\n",
       "    <tr>\n",
       "      <th>4</th>\n",
       "      <td>5.0</td>\n",
       "      <td>5.0</td>\n",
       "      <td>Charmeleon</td>\n",
       "      <td>58</td>\n",
       "      <td>64</td>\n",
       "      <td>58</td>\n",
       "      <td>80</td>\n",
       "      <td>65</td>\n",
       "      <td>80</td>\n",
       "      <td>405</td>\n",
       "      <td>...</td>\n",
       "      <td>45</td>\n",
       "      <td>1059860</td>\n",
       "      <td>Lv. 16</td>\n",
       "      <td>5.0</td>\n",
       "      <td>5.0</td>\n",
       "      <td>230.0</td>\n",
       "      <td>NaN</td>\n",
       "      <td>NaN</td>\n",
       "      <td>NaN</td>\n",
       "      <td>Charmeleon</td>\n",
       "    </tr>\n",
       "  </tbody>\n",
       "</table>\n",
       "<p>5 rows × 35 columns</p>\n",
       "</div>"
      ],
      "text/plain": [
       "   Per  Nat     Pokemon  HP  Atk  Def  SpA  SpD  Spe  Total  ... Catch  \\\n",
       "0  1.0  1.0   Bulbasaur  45   49   49   65   65   45    318  ...    45   \n",
       "1  2.0  2.0     Ivysaur  60   62   63   80   80   60    405  ...    45   \n",
       "2  3.0  3.0    Venusaur  80   82   83  100  100   80    525  ...    45   \n",
       "3  4.0  4.0  Charmander  39   52   43   60   50   65    309  ...    45   \n",
       "4  5.0  5.0  Charmeleon  58   64   58   80   65   80    405  ...    45   \n",
       "\n",
       "       EXP  Evolve Per.1 Nat.1    Joh Hoe  Sin  Un   Pokemon.1  \n",
       "0  1059860     NaN   1.0   1.0  226.0 NaN  NaN NaN   Bulbasaur  \n",
       "1  1059860  Lv. 16   2.0   2.0  227.0 NaN  NaN NaN     Ivysaur  \n",
       "2  1059860  Lv. 32   3.0   3.0  228.0 NaN  NaN NaN    Venusaur  \n",
       "3  1059860     NaN   4.0   4.0  229.0 NaN  NaN NaN  Charmander  \n",
       "4  1059860  Lv. 16   5.0   5.0  230.0 NaN  NaN NaN  Charmeleon  \n",
       "\n",
       "[5 rows x 35 columns]"
      ]
     },
     "execution_count": 11,
     "metadata": {},
     "output_type": "execute_result"
    }
   ],
   "source": [
    "df.head()"
   ]
  },
  {
   "cell_type": "markdown",
   "id": "394cd0c4-f9ec-4494-947a-32ebf405de9a",
   "metadata": {},
   "source": [
    "# Displaying Full Data Frames"
   ]
  },
  {
   "cell_type": "markdown",
   "id": "52e9d417-332b-4499-966b-44e842086b61",
   "metadata": {},
   "source": [
    "***"
   ]
  },
  {
   "cell_type": "code",
   "execution_count": 12,
   "id": "a5fd5f02-098e-4b0c-a6cb-a9bccd2d8b40",
   "metadata": {},
   "outputs": [],
   "source": [
    "pd.set_option('display.max_rows', 20)"
   ]
  },
  {
   "cell_type": "code",
   "execution_count": 19,
   "id": "c56d9a75-ee0f-443f-8988-1645f5f3c4ad",
   "metadata": {},
   "outputs": [
    {
     "data": {
      "text/html": [
       "<div>\n",
       "<style scoped>\n",
       "    .dataframe tbody tr th:only-of-type {\n",
       "        vertical-align: middle;\n",
       "    }\n",
       "\n",
       "    .dataframe tbody tr th {\n",
       "        vertical-align: top;\n",
       "    }\n",
       "\n",
       "    .dataframe thead th {\n",
       "        text-align: right;\n",
       "    }\n",
       "</style>\n",
       "<table border=\"1\" class=\"dataframe\">\n",
       "  <thead>\n",
       "    <tr style=\"text-align: right;\">\n",
       "      <th></th>\n",
       "      <th>Per</th>\n",
       "      <th>Nat</th>\n",
       "      <th>Pokemon</th>\n",
       "      <th>HP</th>\n",
       "      <th>Atk</th>\n",
       "      <th>Def</th>\n",
       "      <th>SpA</th>\n",
       "      <th>SpD</th>\n",
       "      <th>Spe</th>\n",
       "      <th>Total</th>\n",
       "      <th>...</th>\n",
       "      <th>Catch</th>\n",
       "      <th>EXP</th>\n",
       "      <th>Evolve</th>\n",
       "      <th>Per.1</th>\n",
       "      <th>Nat.1</th>\n",
       "      <th>Joh</th>\n",
       "      <th>Hoe</th>\n",
       "      <th>Sin</th>\n",
       "      <th>Un</th>\n",
       "      <th>Pokemon.1</th>\n",
       "    </tr>\n",
       "  </thead>\n",
       "  <tbody>\n",
       "    <tr>\n",
       "      <th>0</th>\n",
       "      <td>1.0</td>\n",
       "      <td>1.0</td>\n",
       "      <td>Bulbasaur</td>\n",
       "      <td>45</td>\n",
       "      <td>49</td>\n",
       "      <td>49</td>\n",
       "      <td>65</td>\n",
       "      <td>65</td>\n",
       "      <td>45</td>\n",
       "      <td>318</td>\n",
       "      <td>...</td>\n",
       "      <td>45</td>\n",
       "      <td>1059860</td>\n",
       "      <td>NaN</td>\n",
       "      <td>1.0</td>\n",
       "      <td>1.0</td>\n",
       "      <td>226.0</td>\n",
       "      <td>NaN</td>\n",
       "      <td>NaN</td>\n",
       "      <td>NaN</td>\n",
       "      <td>Bulbasaur</td>\n",
       "    </tr>\n",
       "    <tr>\n",
       "      <th>1</th>\n",
       "      <td>2.0</td>\n",
       "      <td>2.0</td>\n",
       "      <td>Ivysaur</td>\n",
       "      <td>60</td>\n",
       "      <td>62</td>\n",
       "      <td>63</td>\n",
       "      <td>80</td>\n",
       "      <td>80</td>\n",
       "      <td>60</td>\n",
       "      <td>405</td>\n",
       "      <td>...</td>\n",
       "      <td>45</td>\n",
       "      <td>1059860</td>\n",
       "      <td>Lv. 16</td>\n",
       "      <td>2.0</td>\n",
       "      <td>2.0</td>\n",
       "      <td>227.0</td>\n",
       "      <td>NaN</td>\n",
       "      <td>NaN</td>\n",
       "      <td>NaN</td>\n",
       "      <td>Ivysaur</td>\n",
       "    </tr>\n",
       "    <tr>\n",
       "      <th>2</th>\n",
       "      <td>3.0</td>\n",
       "      <td>3.0</td>\n",
       "      <td>Venusaur</td>\n",
       "      <td>80</td>\n",
       "      <td>82</td>\n",
       "      <td>83</td>\n",
       "      <td>100</td>\n",
       "      <td>100</td>\n",
       "      <td>80</td>\n",
       "      <td>525</td>\n",
       "      <td>...</td>\n",
       "      <td>45</td>\n",
       "      <td>1059860</td>\n",
       "      <td>Lv. 32</td>\n",
       "      <td>3.0</td>\n",
       "      <td>3.0</td>\n",
       "      <td>228.0</td>\n",
       "      <td>NaN</td>\n",
       "      <td>NaN</td>\n",
       "      <td>NaN</td>\n",
       "      <td>Venusaur</td>\n",
       "    </tr>\n",
       "    <tr>\n",
       "      <th>3</th>\n",
       "      <td>4.0</td>\n",
       "      <td>4.0</td>\n",
       "      <td>Charmander</td>\n",
       "      <td>39</td>\n",
       "      <td>52</td>\n",
       "      <td>43</td>\n",
       "      <td>60</td>\n",
       "      <td>50</td>\n",
       "      <td>65</td>\n",
       "      <td>309</td>\n",
       "      <td>...</td>\n",
       "      <td>45</td>\n",
       "      <td>1059860</td>\n",
       "      <td>NaN</td>\n",
       "      <td>4.0</td>\n",
       "      <td>4.0</td>\n",
       "      <td>229.0</td>\n",
       "      <td>NaN</td>\n",
       "      <td>NaN</td>\n",
       "      <td>NaN</td>\n",
       "      <td>Charmander</td>\n",
       "    </tr>\n",
       "    <tr>\n",
       "      <th>4</th>\n",
       "      <td>5.0</td>\n",
       "      <td>5.0</td>\n",
       "      <td>Charmeleon</td>\n",
       "      <td>58</td>\n",
       "      <td>64</td>\n",
       "      <td>58</td>\n",
       "      <td>80</td>\n",
       "      <td>65</td>\n",
       "      <td>80</td>\n",
       "      <td>405</td>\n",
       "      <td>...</td>\n",
       "      <td>45</td>\n",
       "      <td>1059860</td>\n",
       "      <td>Lv. 16</td>\n",
       "      <td>5.0</td>\n",
       "      <td>5.0</td>\n",
       "      <td>230.0</td>\n",
       "      <td>NaN</td>\n",
       "      <td>NaN</td>\n",
       "      <td>NaN</td>\n",
       "      <td>Charmeleon</td>\n",
       "    </tr>\n",
       "    <tr>\n",
       "      <th>...</th>\n",
       "      <td>...</td>\n",
       "      <td>...</td>\n",
       "      <td>...</td>\n",
       "      <td>...</td>\n",
       "      <td>...</td>\n",
       "      <td>...</td>\n",
       "      <td>...</td>\n",
       "      <td>...</td>\n",
       "      <td>...</td>\n",
       "      <td>...</td>\n",
       "      <td>...</td>\n",
       "      <td>...</td>\n",
       "      <td>...</td>\n",
       "      <td>...</td>\n",
       "      <td>...</td>\n",
       "      <td>...</td>\n",
       "      <td>...</td>\n",
       "      <td>...</td>\n",
       "      <td>...</td>\n",
       "      <td>...</td>\n",
       "      <td>...</td>\n",
       "    </tr>\n",
       "    <tr>\n",
       "      <th>658</th>\n",
       "      <td>646.0</td>\n",
       "      <td>646.0</td>\n",
       "      <td>Kyurem</td>\n",
       "      <td>125</td>\n",
       "      <td>130</td>\n",
       "      <td>90</td>\n",
       "      <td>130</td>\n",
       "      <td>90</td>\n",
       "      <td>95</td>\n",
       "      <td>660</td>\n",
       "      <td>...</td>\n",
       "      <td>3</td>\n",
       "      <td>1250000</td>\n",
       "      <td>N</td>\n",
       "      <td>646.0</td>\n",
       "      <td>646.0</td>\n",
       "      <td>NaN</td>\n",
       "      <td>NaN</td>\n",
       "      <td>NaN</td>\n",
       "      <td>152.0</td>\n",
       "      <td>Kyurem</td>\n",
       "    </tr>\n",
       "    <tr>\n",
       "      <th>659</th>\n",
       "      <td>647.0</td>\n",
       "      <td>647.0</td>\n",
       "      <td>Keldeo</td>\n",
       "      <td>91</td>\n",
       "      <td>72</td>\n",
       "      <td>90</td>\n",
       "      <td>129</td>\n",
       "      <td>90</td>\n",
       "      <td>108</td>\n",
       "      <td>580</td>\n",
       "      <td>...</td>\n",
       "      <td>3</td>\n",
       "      <td>1250000</td>\n",
       "      <td>N</td>\n",
       "      <td>647.0</td>\n",
       "      <td>647.0</td>\n",
       "      <td>NaN</td>\n",
       "      <td>NaN</td>\n",
       "      <td>NaN</td>\n",
       "      <td>153.0</td>\n",
       "      <td>Keldeo</td>\n",
       "    </tr>\n",
       "    <tr>\n",
       "      <th>660</th>\n",
       "      <td>648.0</td>\n",
       "      <td>648.0</td>\n",
       "      <td>Meloetta (A)</td>\n",
       "      <td>100</td>\n",
       "      <td>77</td>\n",
       "      <td>77</td>\n",
       "      <td>128</td>\n",
       "      <td>128</td>\n",
       "      <td>90</td>\n",
       "      <td>600</td>\n",
       "      <td>...</td>\n",
       "      <td>3</td>\n",
       "      <td>1250000</td>\n",
       "      <td>N</td>\n",
       "      <td>648.0</td>\n",
       "      <td>648.0</td>\n",
       "      <td>NaN</td>\n",
       "      <td>NaN</td>\n",
       "      <td>NaN</td>\n",
       "      <td>154.0</td>\n",
       "      <td>Meloetta (A)</td>\n",
       "    </tr>\n",
       "    <tr>\n",
       "      <th>661</th>\n",
       "      <td>648.1</td>\n",
       "      <td>648.1</td>\n",
       "      <td>Meloetta (P)</td>\n",
       "      <td>100</td>\n",
       "      <td>128</td>\n",
       "      <td>90</td>\n",
       "      <td>77</td>\n",
       "      <td>77</td>\n",
       "      <td>128</td>\n",
       "      <td>600</td>\n",
       "      <td>...</td>\n",
       "      <td>3</td>\n",
       "      <td>1250000</td>\n",
       "      <td>N</td>\n",
       "      <td>648.1</td>\n",
       "      <td>648.1</td>\n",
       "      <td>NaN</td>\n",
       "      <td>NaN</td>\n",
       "      <td>NaN</td>\n",
       "      <td>154.1</td>\n",
       "      <td>Meloetta (P)</td>\n",
       "    </tr>\n",
       "    <tr>\n",
       "      <th>662</th>\n",
       "      <td>649.0</td>\n",
       "      <td>649.0</td>\n",
       "      <td>Genesect</td>\n",
       "      <td>71</td>\n",
       "      <td>120</td>\n",
       "      <td>95</td>\n",
       "      <td>120</td>\n",
       "      <td>95</td>\n",
       "      <td>99</td>\n",
       "      <td>600</td>\n",
       "      <td>...</td>\n",
       "      <td>3</td>\n",
       "      <td>1250000</td>\n",
       "      <td>N</td>\n",
       "      <td>649.0</td>\n",
       "      <td>649.0</td>\n",
       "      <td>NaN</td>\n",
       "      <td>NaN</td>\n",
       "      <td>NaN</td>\n",
       "      <td>155.0</td>\n",
       "      <td>Genesect</td>\n",
       "    </tr>\n",
       "  </tbody>\n",
       "</table>\n",
       "<p>663 rows × 35 columns</p>\n",
       "</div>"
      ],
      "text/plain": [
       "       Per    Nat       Pokemon   HP  Atk  Def  SpA  SpD  Spe  Total  ...  \\\n",
       "0      1.0    1.0     Bulbasaur   45   49   49   65   65   45    318  ...   \n",
       "1      2.0    2.0       Ivysaur   60   62   63   80   80   60    405  ...   \n",
       "2      3.0    3.0      Venusaur   80   82   83  100  100   80    525  ...   \n",
       "3      4.0    4.0    Charmander   39   52   43   60   50   65    309  ...   \n",
       "4      5.0    5.0    Charmeleon   58   64   58   80   65   80    405  ...   \n",
       "..     ...    ...           ...  ...  ...  ...  ...  ...  ...    ...  ...   \n",
       "658  646.0  646.0        Kyurem  125  130   90  130   90   95    660  ...   \n",
       "659  647.0  647.0        Keldeo   91   72   90  129   90  108    580  ...   \n",
       "660  648.0  648.0  Meloetta (A)  100   77   77  128  128   90    600  ...   \n",
       "661  648.1  648.1  Meloetta (P)  100  128   90   77   77  128    600  ...   \n",
       "662  649.0  649.0      Genesect   71  120   95  120   95   99    600  ...   \n",
       "\n",
       "    Catch      EXP  Evolve  Per.1  Nat.1    Joh Hoe  Sin     Un     Pokemon.1  \n",
       "0      45  1059860     NaN    1.0    1.0  226.0 NaN  NaN    NaN     Bulbasaur  \n",
       "1      45  1059860  Lv. 16    2.0    2.0  227.0 NaN  NaN    NaN       Ivysaur  \n",
       "2      45  1059860  Lv. 32    3.0    3.0  228.0 NaN  NaN    NaN      Venusaur  \n",
       "3      45  1059860     NaN    4.0    4.0  229.0 NaN  NaN    NaN    Charmander  \n",
       "4      45  1059860  Lv. 16    5.0    5.0  230.0 NaN  NaN    NaN    Charmeleon  \n",
       "..    ...      ...     ...    ...    ...    ...  ..  ...    ...           ...  \n",
       "658     3  1250000       N  646.0  646.0    NaN NaN  NaN  152.0        Kyurem  \n",
       "659     3  1250000       N  647.0  647.0    NaN NaN  NaN  153.0        Keldeo  \n",
       "660     3  1250000       N  648.0  648.0    NaN NaN  NaN  154.0  Meloetta (A)  \n",
       "661     3  1250000       N  648.1  648.1    NaN NaN  NaN  154.1  Meloetta (P)  \n",
       "662     3  1250000       N  649.0  649.0    NaN NaN  NaN  155.0      Genesect  \n",
       "\n",
       "[663 rows x 35 columns]"
      ]
     },
     "execution_count": 19,
     "metadata": {},
     "output_type": "execute_result"
    }
   ],
   "source": [
    "df.head(700)"
   ]
  },
  {
   "cell_type": "markdown",
   "id": "01c0ecbe-0757-4437-91c4-1dcf6d78ce8c",
   "metadata": {},
   "source": [
    "# Accessing Columns"
   ]
  },
  {
   "cell_type": "markdown",
   "id": "5d84e6cc-c445-4dfe-b8c9-92baf24ee507",
   "metadata": {},
   "source": [
    "***"
   ]
  },
  {
   "cell_type": "code",
   "execution_count": 20,
   "id": "80a0a726-3023-4a38-b5d5-d31dcdaea077",
   "metadata": {},
   "outputs": [
    {
     "data": {
      "text/plain": [
       "0         Bulbasaur\n",
       "1           Ivysaur\n",
       "2          Venusaur\n",
       "3        Charmander\n",
       "4        Charmeleon\n",
       "           ...     \n",
       "658          Kyurem\n",
       "659          Keldeo\n",
       "660    Meloetta (A)\n",
       "661    Meloetta (P)\n",
       "662        Genesect\n",
       "Name: Pokemon, Length: 663, dtype: object"
      ]
     },
     "execution_count": 20,
     "metadata": {},
     "output_type": "execute_result"
    }
   ],
   "source": [
    "df.Pokemon"
   ]
  },
  {
   "cell_type": "code",
   "execution_count": 22,
   "id": "f07ee3ee-ec39-4525-a7a8-7978206c90aa",
   "metadata": {},
   "outputs": [
    {
     "data": {
      "text/plain": [
       "'Bulbasaur'"
      ]
     },
     "execution_count": 22,
     "metadata": {},
     "output_type": "execute_result"
    }
   ],
   "source": [
    "df.Pokemon[0]"
   ]
  },
  {
   "cell_type": "code",
   "execution_count": 24,
   "id": "f479ecd9-d6fc-452f-b389-8ecb9fe4208a",
   "metadata": {},
   "outputs": [
    {
     "data": {
      "text/plain": [
       "0     Bulbasaur\n",
       "1       Ivysaur\n",
       "2      Venusaur\n",
       "3    Charmander\n",
       "4    Charmeleon\n",
       "5     Charizard\n",
       "6      Squirtle\n",
       "7     Wartortle\n",
       "8     Blastoise\n",
       "9      Caterpie\n",
       "Name: Pokemon, dtype: object"
      ]
     },
     "execution_count": 24,
     "metadata": {},
     "output_type": "execute_result"
    }
   ],
   "source": [
    "df.Pokemon[0:10]"
   ]
  },
  {
   "cell_type": "markdown",
   "id": "8a1d7cef-99b1-4bb3-b128-6bb2edd739d1",
   "metadata": {},
   "source": [
    "# Accessing Multiple Columns\n",
    "***"
   ]
  },
  {
   "cell_type": "markdown",
   "id": "6ea1ee7a-b8ae-45ba-a46f-47c24c0c7e86",
   "metadata": {},
   "source": [
    "You can access multiple columns, using a variable."
   ]
  },
  {
   "cell_type": "code",
   "execution_count": 25,
   "id": "3cfa6a06-47f5-48c1-ab70-b04e51375d34",
   "metadata": {},
   "outputs": [],
   "source": [
    "pokemon_Atk_HP = df[['Pokemon', 'HP', 'Atk']]"
   ]
  },
  {
   "cell_type": "code",
   "execution_count": 26,
   "id": "ba54aa85-87c1-4c4d-948b-24ead95f707a",
   "metadata": {},
   "outputs": [
    {
     "data": {
      "text/html": [
       "<div>\n",
       "<style scoped>\n",
       "    .dataframe tbody tr th:only-of-type {\n",
       "        vertical-align: middle;\n",
       "    }\n",
       "\n",
       "    .dataframe tbody tr th {\n",
       "        vertical-align: top;\n",
       "    }\n",
       "\n",
       "    .dataframe thead th {\n",
       "        text-align: right;\n",
       "    }\n",
       "</style>\n",
       "<table border=\"1\" class=\"dataframe\">\n",
       "  <thead>\n",
       "    <tr style=\"text-align: right;\">\n",
       "      <th></th>\n",
       "      <th>Pokemon</th>\n",
       "      <th>HP</th>\n",
       "      <th>Atk</th>\n",
       "    </tr>\n",
       "  </thead>\n",
       "  <tbody>\n",
       "    <tr>\n",
       "      <th>0</th>\n",
       "      <td>Bulbasaur</td>\n",
       "      <td>45</td>\n",
       "      <td>49</td>\n",
       "    </tr>\n",
       "    <tr>\n",
       "      <th>1</th>\n",
       "      <td>Ivysaur</td>\n",
       "      <td>60</td>\n",
       "      <td>62</td>\n",
       "    </tr>\n",
       "    <tr>\n",
       "      <th>2</th>\n",
       "      <td>Venusaur</td>\n",
       "      <td>80</td>\n",
       "      <td>82</td>\n",
       "    </tr>\n",
       "    <tr>\n",
       "      <th>3</th>\n",
       "      <td>Charmander</td>\n",
       "      <td>39</td>\n",
       "      <td>52</td>\n",
       "    </tr>\n",
       "    <tr>\n",
       "      <th>4</th>\n",
       "      <td>Charmeleon</td>\n",
       "      <td>58</td>\n",
       "      <td>64</td>\n",
       "    </tr>\n",
       "    <tr>\n",
       "      <th>5</th>\n",
       "      <td>Charizard</td>\n",
       "      <td>78</td>\n",
       "      <td>84</td>\n",
       "    </tr>\n",
       "    <tr>\n",
       "      <th>6</th>\n",
       "      <td>Squirtle</td>\n",
       "      <td>44</td>\n",
       "      <td>48</td>\n",
       "    </tr>\n",
       "    <tr>\n",
       "      <th>7</th>\n",
       "      <td>Wartortle</td>\n",
       "      <td>59</td>\n",
       "      <td>63</td>\n",
       "    </tr>\n",
       "    <tr>\n",
       "      <th>8</th>\n",
       "      <td>Blastoise</td>\n",
       "      <td>79</td>\n",
       "      <td>83</td>\n",
       "    </tr>\n",
       "    <tr>\n",
       "      <th>9</th>\n",
       "      <td>Caterpie</td>\n",
       "      <td>45</td>\n",
       "      <td>30</td>\n",
       "    </tr>\n",
       "  </tbody>\n",
       "</table>\n",
       "</div>"
      ],
      "text/plain": [
       "      Pokemon  HP  Atk\n",
       "0   Bulbasaur  45   49\n",
       "1     Ivysaur  60   62\n",
       "2    Venusaur  80   82\n",
       "3  Charmander  39   52\n",
       "4  Charmeleon  58   64\n",
       "5   Charizard  78   84\n",
       "6    Squirtle  44   48\n",
       "7   Wartortle  59   63\n",
       "8   Blastoise  79   83\n",
       "9    Caterpie  45   30"
      ]
     },
     "execution_count": 26,
     "metadata": {},
     "output_type": "execute_result"
    }
   ],
   "source": [
    "pokemon_Atk_HP.head(10)"
   ]
  },
  {
   "cell_type": "markdown",
   "id": "e3791fb2-b44c-44d3-9ec2-bf131f3f5639",
   "metadata": {},
   "source": [
    "# Accessing Rows\n",
    "***"
   ]
  },
  {
   "cell_type": "code",
   "execution_count": 27,
   "id": "56c5e653-11f1-409e-bd7b-24531447fc06",
   "metadata": {},
   "outputs": [],
   "source": [
    "specific_row = df.iloc[0]"
   ]
  },
  {
   "cell_type": "code",
   "execution_count": 28,
   "id": "50c1982c-7534-4f6d-84ae-9000f4ac32dd",
   "metadata": {},
   "outputs": [
    {
     "name": "stdout",
     "output_type": "stream",
     "text": [
      "Per                1.0\n",
      "Nat                1.0\n",
      "Pokemon      Bulbasaur\n",
      "HP                  45\n",
      "Atk                 49\n",
      "               ...    \n",
      "Joh              226.0\n",
      "Hoe                NaN\n",
      "Sin                NaN\n",
      "Un                 NaN\n",
      "Pokemon.1    Bulbasaur\n",
      "Name: 0, Length: 35, dtype: object\n"
     ]
    }
   ],
   "source": [
    "print(specific_row)"
   ]
  },
  {
   "cell_type": "markdown",
   "id": "8ec1d07e-5900-41ff-aebf-253367c6a5bc",
   "metadata": {},
   "source": [
    "# Slicing Rows and Columns\n",
    "***"
   ]
  },
  {
   "cell_type": "code",
   "execution_count": 29,
   "id": "2b80959d-876a-4649-91bd-b89ffbc1230e",
   "metadata": {},
   "outputs": [],
   "source": [
    "rows_zero_to_ten = df.iloc[0:10]"
   ]
  },
  {
   "cell_type": "code",
   "execution_count": 30,
   "id": "5b125f05-445e-4a22-809b-403a842b0295",
   "metadata": {},
   "outputs": [
    {
     "data": {
      "text/html": [
       "<div>\n",
       "<style scoped>\n",
       "    .dataframe tbody tr th:only-of-type {\n",
       "        vertical-align: middle;\n",
       "    }\n",
       "\n",
       "    .dataframe tbody tr th {\n",
       "        vertical-align: top;\n",
       "    }\n",
       "\n",
       "    .dataframe thead th {\n",
       "        text-align: right;\n",
       "    }\n",
       "</style>\n",
       "<table border=\"1\" class=\"dataframe\">\n",
       "  <thead>\n",
       "    <tr style=\"text-align: right;\">\n",
       "      <th></th>\n",
       "      <th>Per</th>\n",
       "      <th>Nat</th>\n",
       "      <th>Pokemon</th>\n",
       "      <th>HP</th>\n",
       "      <th>Atk</th>\n",
       "      <th>Def</th>\n",
       "      <th>SpA</th>\n",
       "      <th>SpD</th>\n",
       "      <th>Spe</th>\n",
       "      <th>Total</th>\n",
       "      <th>...</th>\n",
       "      <th>Catch</th>\n",
       "      <th>EXP</th>\n",
       "      <th>Evolve</th>\n",
       "      <th>Per.1</th>\n",
       "      <th>Nat.1</th>\n",
       "      <th>Joh</th>\n",
       "      <th>Hoe</th>\n",
       "      <th>Sin</th>\n",
       "      <th>Un</th>\n",
       "      <th>Pokemon.1</th>\n",
       "    </tr>\n",
       "  </thead>\n",
       "  <tbody>\n",
       "    <tr>\n",
       "      <th>0</th>\n",
       "      <td>1.0</td>\n",
       "      <td>1.0</td>\n",
       "      <td>Bulbasaur</td>\n",
       "      <td>45</td>\n",
       "      <td>49</td>\n",
       "      <td>49</td>\n",
       "      <td>65</td>\n",
       "      <td>65</td>\n",
       "      <td>45</td>\n",
       "      <td>318</td>\n",
       "      <td>...</td>\n",
       "      <td>45</td>\n",
       "      <td>1059860</td>\n",
       "      <td>NaN</td>\n",
       "      <td>1.0</td>\n",
       "      <td>1.0</td>\n",
       "      <td>226.0</td>\n",
       "      <td>NaN</td>\n",
       "      <td>NaN</td>\n",
       "      <td>NaN</td>\n",
       "      <td>Bulbasaur</td>\n",
       "    </tr>\n",
       "    <tr>\n",
       "      <th>1</th>\n",
       "      <td>2.0</td>\n",
       "      <td>2.0</td>\n",
       "      <td>Ivysaur</td>\n",
       "      <td>60</td>\n",
       "      <td>62</td>\n",
       "      <td>63</td>\n",
       "      <td>80</td>\n",
       "      <td>80</td>\n",
       "      <td>60</td>\n",
       "      <td>405</td>\n",
       "      <td>...</td>\n",
       "      <td>45</td>\n",
       "      <td>1059860</td>\n",
       "      <td>Lv. 16</td>\n",
       "      <td>2.0</td>\n",
       "      <td>2.0</td>\n",
       "      <td>227.0</td>\n",
       "      <td>NaN</td>\n",
       "      <td>NaN</td>\n",
       "      <td>NaN</td>\n",
       "      <td>Ivysaur</td>\n",
       "    </tr>\n",
       "    <tr>\n",
       "      <th>2</th>\n",
       "      <td>3.0</td>\n",
       "      <td>3.0</td>\n",
       "      <td>Venusaur</td>\n",
       "      <td>80</td>\n",
       "      <td>82</td>\n",
       "      <td>83</td>\n",
       "      <td>100</td>\n",
       "      <td>100</td>\n",
       "      <td>80</td>\n",
       "      <td>525</td>\n",
       "      <td>...</td>\n",
       "      <td>45</td>\n",
       "      <td>1059860</td>\n",
       "      <td>Lv. 32</td>\n",
       "      <td>3.0</td>\n",
       "      <td>3.0</td>\n",
       "      <td>228.0</td>\n",
       "      <td>NaN</td>\n",
       "      <td>NaN</td>\n",
       "      <td>NaN</td>\n",
       "      <td>Venusaur</td>\n",
       "    </tr>\n",
       "    <tr>\n",
       "      <th>3</th>\n",
       "      <td>4.0</td>\n",
       "      <td>4.0</td>\n",
       "      <td>Charmander</td>\n",
       "      <td>39</td>\n",
       "      <td>52</td>\n",
       "      <td>43</td>\n",
       "      <td>60</td>\n",
       "      <td>50</td>\n",
       "      <td>65</td>\n",
       "      <td>309</td>\n",
       "      <td>...</td>\n",
       "      <td>45</td>\n",
       "      <td>1059860</td>\n",
       "      <td>NaN</td>\n",
       "      <td>4.0</td>\n",
       "      <td>4.0</td>\n",
       "      <td>229.0</td>\n",
       "      <td>NaN</td>\n",
       "      <td>NaN</td>\n",
       "      <td>NaN</td>\n",
       "      <td>Charmander</td>\n",
       "    </tr>\n",
       "    <tr>\n",
       "      <th>4</th>\n",
       "      <td>5.0</td>\n",
       "      <td>5.0</td>\n",
       "      <td>Charmeleon</td>\n",
       "      <td>58</td>\n",
       "      <td>64</td>\n",
       "      <td>58</td>\n",
       "      <td>80</td>\n",
       "      <td>65</td>\n",
       "      <td>80</td>\n",
       "      <td>405</td>\n",
       "      <td>...</td>\n",
       "      <td>45</td>\n",
       "      <td>1059860</td>\n",
       "      <td>Lv. 16</td>\n",
       "      <td>5.0</td>\n",
       "      <td>5.0</td>\n",
       "      <td>230.0</td>\n",
       "      <td>NaN</td>\n",
       "      <td>NaN</td>\n",
       "      <td>NaN</td>\n",
       "      <td>Charmeleon</td>\n",
       "    </tr>\n",
       "    <tr>\n",
       "      <th>5</th>\n",
       "      <td>6.0</td>\n",
       "      <td>6.0</td>\n",
       "      <td>Charizard</td>\n",
       "      <td>78</td>\n",
       "      <td>84</td>\n",
       "      <td>78</td>\n",
       "      <td>109</td>\n",
       "      <td>85</td>\n",
       "      <td>100</td>\n",
       "      <td>534</td>\n",
       "      <td>...</td>\n",
       "      <td>45</td>\n",
       "      <td>1059860</td>\n",
       "      <td>Lv. 36</td>\n",
       "      <td>6.0</td>\n",
       "      <td>6.0</td>\n",
       "      <td>231.0</td>\n",
       "      <td>NaN</td>\n",
       "      <td>NaN</td>\n",
       "      <td>NaN</td>\n",
       "      <td>Charizard</td>\n",
       "    </tr>\n",
       "    <tr>\n",
       "      <th>6</th>\n",
       "      <td>7.0</td>\n",
       "      <td>7.0</td>\n",
       "      <td>Squirtle</td>\n",
       "      <td>44</td>\n",
       "      <td>48</td>\n",
       "      <td>65</td>\n",
       "      <td>60</td>\n",
       "      <td>54</td>\n",
       "      <td>43</td>\n",
       "      <td>314</td>\n",
       "      <td>...</td>\n",
       "      <td>45</td>\n",
       "      <td>1059860</td>\n",
       "      <td>NaN</td>\n",
       "      <td>7.0</td>\n",
       "      <td>7.0</td>\n",
       "      <td>232.0</td>\n",
       "      <td>NaN</td>\n",
       "      <td>NaN</td>\n",
       "      <td>NaN</td>\n",
       "      <td>Squirtle</td>\n",
       "    </tr>\n",
       "    <tr>\n",
       "      <th>7</th>\n",
       "      <td>8.0</td>\n",
       "      <td>8.0</td>\n",
       "      <td>Wartortle</td>\n",
       "      <td>59</td>\n",
       "      <td>63</td>\n",
       "      <td>80</td>\n",
       "      <td>65</td>\n",
       "      <td>80</td>\n",
       "      <td>58</td>\n",
       "      <td>405</td>\n",
       "      <td>...</td>\n",
       "      <td>45</td>\n",
       "      <td>1059860</td>\n",
       "      <td>Lv. 16</td>\n",
       "      <td>8.0</td>\n",
       "      <td>8.0</td>\n",
       "      <td>233.0</td>\n",
       "      <td>NaN</td>\n",
       "      <td>NaN</td>\n",
       "      <td>NaN</td>\n",
       "      <td>Wartortle</td>\n",
       "    </tr>\n",
       "    <tr>\n",
       "      <th>8</th>\n",
       "      <td>9.0</td>\n",
       "      <td>9.0</td>\n",
       "      <td>Blastoise</td>\n",
       "      <td>79</td>\n",
       "      <td>83</td>\n",
       "      <td>100</td>\n",
       "      <td>85</td>\n",
       "      <td>105</td>\n",
       "      <td>78</td>\n",
       "      <td>530</td>\n",
       "      <td>...</td>\n",
       "      <td>45</td>\n",
       "      <td>1059860</td>\n",
       "      <td>Lv. 36</td>\n",
       "      <td>9.0</td>\n",
       "      <td>9.0</td>\n",
       "      <td>234.0</td>\n",
       "      <td>NaN</td>\n",
       "      <td>NaN</td>\n",
       "      <td>NaN</td>\n",
       "      <td>Blastoise</td>\n",
       "    </tr>\n",
       "    <tr>\n",
       "      <th>9</th>\n",
       "      <td>10.0</td>\n",
       "      <td>10.0</td>\n",
       "      <td>Caterpie</td>\n",
       "      <td>45</td>\n",
       "      <td>30</td>\n",
       "      <td>35</td>\n",
       "      <td>20</td>\n",
       "      <td>20</td>\n",
       "      <td>45</td>\n",
       "      <td>195</td>\n",
       "      <td>...</td>\n",
       "      <td>255</td>\n",
       "      <td>1000000</td>\n",
       "      <td>NaN</td>\n",
       "      <td>10.0</td>\n",
       "      <td>10.0</td>\n",
       "      <td>24.0</td>\n",
       "      <td>NaN</td>\n",
       "      <td>NaN</td>\n",
       "      <td>NaN</td>\n",
       "      <td>Caterpie</td>\n",
       "    </tr>\n",
       "  </tbody>\n",
       "</table>\n",
       "<p>10 rows × 35 columns</p>\n",
       "</div>"
      ],
      "text/plain": [
       "    Per   Nat     Pokemon  HP  Atk  Def  SpA  SpD  Spe  Total  ... Catch  \\\n",
       "0   1.0   1.0   Bulbasaur  45   49   49   65   65   45    318  ...    45   \n",
       "1   2.0   2.0     Ivysaur  60   62   63   80   80   60    405  ...    45   \n",
       "2   3.0   3.0    Venusaur  80   82   83  100  100   80    525  ...    45   \n",
       "3   4.0   4.0  Charmander  39   52   43   60   50   65    309  ...    45   \n",
       "4   5.0   5.0  Charmeleon  58   64   58   80   65   80    405  ...    45   \n",
       "5   6.0   6.0   Charizard  78   84   78  109   85  100    534  ...    45   \n",
       "6   7.0   7.0    Squirtle  44   48   65   60   54   43    314  ...    45   \n",
       "7   8.0   8.0   Wartortle  59   63   80   65   80   58    405  ...    45   \n",
       "8   9.0   9.0   Blastoise  79   83  100   85  105   78    530  ...    45   \n",
       "9  10.0  10.0    Caterpie  45   30   35   20   20   45    195  ...   255   \n",
       "\n",
       "       EXP  Evolve Per.1 Nat.1    Joh Hoe  Sin  Un   Pokemon.1  \n",
       "0  1059860     NaN   1.0   1.0  226.0 NaN  NaN NaN   Bulbasaur  \n",
       "1  1059860  Lv. 16   2.0   2.0  227.0 NaN  NaN NaN     Ivysaur  \n",
       "2  1059860  Lv. 32   3.0   3.0  228.0 NaN  NaN NaN    Venusaur  \n",
       "3  1059860     NaN   4.0   4.0  229.0 NaN  NaN NaN  Charmander  \n",
       "4  1059860  Lv. 16   5.0   5.0  230.0 NaN  NaN NaN  Charmeleon  \n",
       "5  1059860  Lv. 36   6.0   6.0  231.0 NaN  NaN NaN   Charizard  \n",
       "6  1059860     NaN   7.0   7.0  232.0 NaN  NaN NaN    Squirtle  \n",
       "7  1059860  Lv. 16   8.0   8.0  233.0 NaN  NaN NaN   Wartortle  \n",
       "8  1059860  Lv. 36   9.0   9.0  234.0 NaN  NaN NaN   Blastoise  \n",
       "9  1000000     NaN  10.0  10.0   24.0 NaN  NaN NaN    Caterpie  \n",
       "\n",
       "[10 rows x 35 columns]"
      ]
     },
     "execution_count": 30,
     "metadata": {},
     "output_type": "execute_result"
    }
   ],
   "source": [
    "rows_zero_to_ten.head(10)"
   ]
  },
  {
   "cell_type": "markdown",
   "id": "00503a28-0a49-4c37-a408-8d01ba67fefe",
   "metadata": {},
   "source": [
    "# Useful PANDAS Methods\n",
    "***"
   ]
  },
  {
   "cell_type": "code",
   "execution_count": 31,
   "id": "f0d382c5-9a49-408b-b2e4-0604da9d1fcd",
   "metadata": {},
   "outputs": [
    {
     "data": {
      "text/plain": [
       "464     Abomasnow\n",
       "62           Abra\n",
       "358         Absol\n",
       "629      Accelgor\n",
       "141    Aerodactyl\n",
       "          ...    \n",
       "262     Zigzagoon\n",
       "583       Zoroark\n",
       "582         Zorua\n",
       "40          Zubat\n",
       "646      Zweilous\n",
       "Name: Pokemon, Length: 663, dtype: object"
      ]
     },
     "execution_count": 31,
     "metadata": {},
     "output_type": "execute_result"
    }
   ],
   "source": [
    "df.Pokemon.sort_values() #sorts values of pokemon column"
   ]
  },
  {
   "cell_type": "code",
   "execution_count": 32,
   "id": "e5bf729f-ea17-4c10-989e-c1d6d87a942a",
   "metadata": {},
   "outputs": [
    {
     "data": {
      "text/plain": [
       "8     Blastoise\n",
       "0     Bulbasaur\n",
       "9      Caterpie\n",
       "5     Charizard\n",
       "3    Charmander\n",
       "4    Charmeleon\n",
       "1       Ivysaur\n",
       "6      Squirtle\n",
       "2      Venusaur\n",
       "7     Wartortle\n",
       "Name: Pokemon, dtype: object"
      ]
     },
     "execution_count": 32,
     "metadata": {},
     "output_type": "execute_result"
    }
   ],
   "source": [
    "df.Pokemon[0:10].sort_values() #sorts value of first 9 index items"
   ]
  },
  {
   "cell_type": "code",
   "execution_count": 33,
   "id": "ca7f4296-0383-40e1-b245-0595733c0491",
   "metadata": {},
   "outputs": [
    {
     "data": {
      "text/plain": [
       "68.34087481146305"
      ]
     },
     "execution_count": 33,
     "metadata": {},
     "output_type": "execute_result"
    }
   ],
   "source": [
    "df.HP.mean() #gets mean"
   ]
  },
  {
   "cell_type": "code",
   "execution_count": 34,
   "id": "884a0867-49ff-43ea-b46c-0c7befd34c01",
   "metadata": {},
   "outputs": [
    {
     "data": {
      "text/plain": [
       "count    663.000000\n",
       "mean      68.962293\n",
       "std       29.246841\n",
       "min       10.000000\n",
       "25%       45.000000\n",
       "50%       65.000000\n",
       "75%       90.000000\n",
       "max      180.000000\n",
       "Name: SpA, dtype: float64"
      ]
     },
     "execution_count": 34,
     "metadata": {},
     "output_type": "execute_result"
    }
   ],
   "source": [
    "df.SpA.describe()"
   ]
  },
  {
   "cell_type": "markdown",
   "id": "d5519c35-2627-4c02-b0f3-00285773b5b4",
   "metadata": {},
   "source": [
    "# Filtering Data\n",
    "***"
   ]
  },
  {
   "cell_type": "code",
   "execution_count": 35,
   "id": "103dd74b-c07f-47ac-b96a-65b0429afeb4",
   "metadata": {},
   "outputs": [],
   "source": [
    "chu_pokemon = df[df['Pokemon'].str.contains(\"chu\")]"
   ]
  },
  {
   "cell_type": "code",
   "execution_count": 36,
   "id": "6924cab0-8dd0-4f4c-883c-8627ba31acdf",
   "metadata": {},
   "outputs": [
    {
     "name": "stdout",
     "output_type": "stream",
     "text": [
      "       Per    Nat   Pokemon  HP  Atk  Def  SpA  SpD  Spe  Total  ... Catch  \\\n",
      "24    26.0   25.0   Pikachu  35   55   30   50   40   90    300  ...   190   \n",
      "25    27.0   26.0    Raichu  60   90   55   90   80  100    475  ...    75   \n",
      "171   25.0  172.0     Pichu  20   40   15   35   35   60    205  ...   190   \n",
      "237  143.0  238.0  Smoochum  45   30   15   85   65   65    305  ...    45   \n",
      "\n",
      "         EXP        Evolve  Per.1  Nat.1    Joh    Hoe    Sin  Un  Pokemon.1  \n",
      "24   1000000    Friendship   26.0   25.0   22.0  156.0  104.0 NaN    Pikachu  \n",
      "25   1000000  Thunderstone   27.0   26.0   23.0  157.0  105.0 NaN     Raichu  \n",
      "171  1000000           NaN   25.0  172.0   21.0  155.0  103.0 NaN      Pichu  \n",
      "237  1000000           NaN  143.0  238.0  152.0    NaN    NaN NaN   Smoochum  \n",
      "\n",
      "[4 rows x 35 columns]\n"
     ]
    }
   ],
   "source": [
    "print(chu_pokemon)"
   ]
  },
  {
   "cell_type": "code",
   "execution_count": 37,
   "id": "24381083-e3f3-42b3-8aab-61a2d18ff7de",
   "metadata": {},
   "outputs": [],
   "source": [
    "special_attack_70 = df[df[\"SpA\"]== 70]"
   ]
  },
  {
   "cell_type": "code",
   "execution_count": 38,
   "id": "d80cc82a-75c2-4053-b69b-6eac012967e4",
   "metadata": {},
   "outputs": [
    {
     "name": "stdout",
     "output_type": "stream",
     "text": [
      "       Per    Nat     Pokemon  HP  Atk  Def  SpA  SpD  Spe  Total  ... Catch  \\\n",
      "17    18.0   18.0     Pidgeot  83   80   75   70   70   91    469  ...    45   \n",
      "57    63.0   58.0   Growlithe  55   70   45   70   50   60    350  ...   190   \n",
      "61    67.0   62.0   Poliwrath  90   85   95   70   90   70    500  ...    45   \n",
      "68    75.0   69.0  Bellsprout  50   75   35   70   30   40    300  ...   255   \n",
      "86    95.0   87.0     Dewgong  90   70   80   70   95   70    475  ...    75   \n",
      "..     ...    ...         ...  ..  ...  ...  ...  ...  ...    ...  ...   ...   \n",
      "553  542.0  542.0    Leavanny  75  103   80   70   70   92    490  ...    45   \n",
      "559  548.0  548.0     Petilil  45   35   50   70   50   30    280  ...   190   \n",
      "612  600.0  600.0       Klang  60   80   95   70   85   50    440  ...    60   \n",
      "613  601.0  601.0   Klinklang  60  100  115   70   85   90    520  ...    30   \n",
      "626  614.0  614.0     Beartic  95  110   80   70   80   50    485  ...    60   \n",
      "\n",
      "         EXP       Evolve  Per.1  Nat.1    Joh Hoe  Sin     Un   Pokemon.1  \n",
      "17   1059860       Lv. 36   18.0   18.0   12.0 NaN  NaN    NaN     Pidgeot  \n",
      "57   1250000          NaN   63.0   58.0  127.0 NaN  NaN    NaN   Growlithe  \n",
      "61   1059860  Water Stone   67.0   62.0   74.0 NaN  NaN    NaN   Poliwrath  \n",
      "68   1059860          NaN   75.0   69.0   64.0 NaN  NaN    NaN  Bellsprout  \n",
      "86   1000000       Lv. 34   95.0   87.0  177.0 NaN  NaN    NaN     Dewgong  \n",
      "..       ...          ...    ...    ...    ...  ..  ...    ...         ...  \n",
      "553  1059860   Friendship  542.0  542.0    NaN NaN  NaN   48.0    Leavanny  \n",
      "559  1000000          NaN  548.0  548.0    NaN NaN  NaN   54.0     Petilil  \n",
      "612  1059860       Lv. 38  600.0  600.0    NaN NaN  NaN  106.0       Klang  \n",
      "613  1059860       Lv. 49  601.0  601.0    NaN NaN  NaN  107.0   Klinklang  \n",
      "626  1000000       Lv. 37  614.0  614.0    NaN NaN  NaN  120.0     Beartic  \n",
      "\n",
      "[28 rows x 35 columns]\n"
     ]
    }
   ],
   "source": [
    "print(special_attack_70)"
   ]
  },
  {
   "cell_type": "markdown",
   "id": "cfcbd654-e6e4-42e8-874a-3015581f8ade",
   "metadata": {},
   "source": [
    "# Filtering with Logical Operators\n",
    "***"
   ]
  },
  {
   "cell_type": "code",
   "execution_count": 40,
   "id": "e031fc29-d681-48a9-ba68-21dedfdebaa8",
   "metadata": {},
   "outputs": [],
   "source": [
    "water_high_speed = df[(df[\"Spe\"] > 100) & (df[\"SpD\"] > 90)]"
   ]
  },
  {
   "cell_type": "code",
   "execution_count": 41,
   "id": "95ab8bed-284f-4c8a-b4fe-8f69207b9912",
   "metadata": {},
   "outputs": [
    {
     "name": "stdout",
     "output_type": "stream",
     "text": [
      "       Per    Nat    Pokemon   HP  Atk  Def  SpA  SpD  Spe  Total  ... Catch  \\\n",
      "134  159.0  135.0    Jolteon   65   65   60  110   95  130    525  ...    45   \n",
      "195  161.0  196.0     Espeon   65   65   60  130   95  110    525  ...    45   \n",
      "242  267.0  243.0     Raikou   90   85   75  115  100  115    580  ...     3   \n",
      "248  273.0  249.0      Lugia  106   90  130   90  154  110    680  ...     3   \n",
      "379  409.0  380.0     Latias   80   80   90  110  130  110    600  ...     3   \n",
      "380  410.0  381.0     Latios   80   90   80  130  110  110    600  ...     3   \n",
      "432  454.0  428.0    Lopunny   65   76   84   54   96  105    480  ...    60   \n",
      "433  229.0  429.0  Mismagius   60   60   60  105  105  105    495  ...    45   \n",
      "504  493.0  493.0     Arceus  120  120  120  120  120  120    720  ...     3   \n",
      "508  497.0  497.0  Serperior   75   75   95   75   95  113    528  ...    45   \n",
      "627  615.0  615.0  Cryogonal   70   50   30   95  135  105    485  ...    25   \n",
      "652  640.0  640.0   Virizion   91   90   72   90  129  108    580  ...     3   \n",
      "\n",
      "         EXP               Evolve  Per.1  Nat.1    Joh    Hoe    Sin     Un  \\\n",
      "134  1000000         Thunderstone  159.0  135.0  182.0    NaN  165.0    NaN   \n",
      "195  1000000  Morn/Day Friendship  161.0  196.0  184.0    NaN  167.0    NaN   \n",
      "242  1250000                    N  267.0  243.0  238.0    NaN    NaN    NaN   \n",
      "248  1250000                    N  273.0  249.0  247.0    NaN    NaN    NaN   \n",
      "379  1250000                    N  409.0  380.0    NaN  196.0    NaN    NaN   \n",
      "380  1250000                    N  410.0  381.0    NaN  197.0    NaN    NaN   \n",
      "432  1000000           Friendship  454.0  428.0    NaN    NaN   68.0    NaN   \n",
      "433   800000           Dusk Stone  229.0  429.0    NaN    NaN   73.0    NaN   \n",
      "504  1250000                    N  493.0  493.0    NaN    NaN    NaN    NaN   \n",
      "508  1059860               Lv. 36  497.0  497.0    NaN    NaN    NaN    3.0   \n",
      "627  1000000                    N  615.0  615.0    NaN    NaN    NaN  121.0   \n",
      "652  1250000                    N  640.0  640.0    NaN    NaN    NaN  146.0   \n",
      "\n",
      "     Pokemon.1  \n",
      "134    Jolteon  \n",
      "195     Espeon  \n",
      "242     Raikou  \n",
      "248      Lugia  \n",
      "379     Latias  \n",
      "380     Latios  \n",
      "432    Lopunny  \n",
      "433  Mismagius  \n",
      "504     Arceus  \n",
      "508  Serperior  \n",
      "627  Cryogonal  \n",
      "652   Virizion  \n",
      "\n",
      "[12 rows x 35 columns]\n"
     ]
    }
   ],
   "source": [
    "print(water_high_speed)"
   ]
  },
  {
   "cell_type": "code",
   "execution_count": null,
   "id": "995e2f1b-1015-473d-8e08-ece4a087e9c3",
   "metadata": {},
   "outputs": [],
   "source": []
  }
 ],
 "metadata": {
  "kernelspec": {
   "display_name": "Python 3 (ipykernel)",
   "language": "python",
   "name": "python3"
  },
  "language_info": {
   "codemirror_mode": {
    "name": "ipython",
    "version": 3
   },
   "file_extension": ".py",
   "mimetype": "text/x-python",
   "name": "python",
   "nbconvert_exporter": "python",
   "pygments_lexer": "ipython3",
   "version": "3.10.13"
  }
 },
 "nbformat": 4,
 "nbformat_minor": 5
}
